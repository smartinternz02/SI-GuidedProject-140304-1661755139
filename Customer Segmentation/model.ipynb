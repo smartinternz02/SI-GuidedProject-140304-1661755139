{
 "cells": [
  {
   "cell_type": "markdown",
   "id": "c82b6e54",
   "metadata": {},
   "source": [
    "# Importing Libraries"
   ]
  },
  {
   "cell_type": "code",
   "execution_count": 1,
   "id": "e68348d9",
   "metadata": {},
   "outputs": [],
   "source": [
    "import pandas as pd\n",
    "import seaborn as sns\n",
    "import matplotlib \n",
    "import scipy\n",
    "import sklearn\n",
    "import os"
   ]
  },
  {
   "cell_type": "markdown",
   "id": "6f445de6",
   "metadata": {},
   "source": [
    "# Importing Dataset"
   ]
  },
  {
   "cell_type": "code",
   "execution_count": 2,
   "id": "294ad316",
   "metadata": {},
   "outputs": [],
   "source": [
    "df = pd.read_csv('segmentation_data.csv', index_col='ID')"
   ]
  },
  {
   "cell_type": "markdown",
   "id": "cb27c579",
   "metadata": {},
   "source": [
    "# Analysing Dataset"
   ]
  },
  {
   "cell_type": "code",
   "execution_count": 3,
   "id": "c0653fcb",
   "metadata": {},
   "outputs": [
    {
     "data": {
      "text/html": [
       "<div>\n",
       "<style scoped>\n",
       "    .dataframe tbody tr th:only-of-type {\n",
       "        vertical-align: middle;\n",
       "    }\n",
       "\n",
       "    .dataframe tbody tr th {\n",
       "        vertical-align: top;\n",
       "    }\n",
       "\n",
       "    .dataframe thead th {\n",
       "        text-align: right;\n",
       "    }\n",
       "</style>\n",
       "<table border=\"1\" class=\"dataframe\">\n",
       "  <thead>\n",
       "    <tr style=\"text-align: right;\">\n",
       "      <th></th>\n",
       "      <th>Sex</th>\n",
       "      <th>MaritalStatus</th>\n",
       "      <th>Age</th>\n",
       "      <th>Education</th>\n",
       "      <th>Income</th>\n",
       "      <th>Occupation</th>\n",
       "      <th>SettlementSize</th>\n",
       "    </tr>\n",
       "    <tr>\n",
       "      <th>ID</th>\n",
       "      <th></th>\n",
       "      <th></th>\n",
       "      <th></th>\n",
       "      <th></th>\n",
       "      <th></th>\n",
       "      <th></th>\n",
       "      <th></th>\n",
       "    </tr>\n",
       "  </thead>\n",
       "  <tbody>\n",
       "    <tr>\n",
       "      <th>100000001</th>\n",
       "      <td>0</td>\n",
       "      <td>0</td>\n",
       "      <td>67</td>\n",
       "      <td>2</td>\n",
       "      <td>124670</td>\n",
       "      <td>1</td>\n",
       "      <td>2</td>\n",
       "    </tr>\n",
       "    <tr>\n",
       "      <th>100000002</th>\n",
       "      <td>1</td>\n",
       "      <td>1</td>\n",
       "      <td>22</td>\n",
       "      <td>1</td>\n",
       "      <td>150773</td>\n",
       "      <td>1</td>\n",
       "      <td>2</td>\n",
       "    </tr>\n",
       "    <tr>\n",
       "      <th>100000003</th>\n",
       "      <td>0</td>\n",
       "      <td>0</td>\n",
       "      <td>49</td>\n",
       "      <td>1</td>\n",
       "      <td>89210</td>\n",
       "      <td>0</td>\n",
       "      <td>0</td>\n",
       "    </tr>\n",
       "    <tr>\n",
       "      <th>100000004</th>\n",
       "      <td>0</td>\n",
       "      <td>0</td>\n",
       "      <td>45</td>\n",
       "      <td>1</td>\n",
       "      <td>171565</td>\n",
       "      <td>1</td>\n",
       "      <td>1</td>\n",
       "    </tr>\n",
       "    <tr>\n",
       "      <th>100000005</th>\n",
       "      <td>0</td>\n",
       "      <td>0</td>\n",
       "      <td>53</td>\n",
       "      <td>1</td>\n",
       "      <td>149031</td>\n",
       "      <td>1</td>\n",
       "      <td>1</td>\n",
       "    </tr>\n",
       "    <tr>\n",
       "      <th>100000006</th>\n",
       "      <td>0</td>\n",
       "      <td>0</td>\n",
       "      <td>35</td>\n",
       "      <td>1</td>\n",
       "      <td>144848</td>\n",
       "      <td>0</td>\n",
       "      <td>0</td>\n",
       "    </tr>\n",
       "    <tr>\n",
       "      <th>100000007</th>\n",
       "      <td>0</td>\n",
       "      <td>0</td>\n",
       "      <td>53</td>\n",
       "      <td>1</td>\n",
       "      <td>156495</td>\n",
       "      <td>1</td>\n",
       "      <td>1</td>\n",
       "    </tr>\n",
       "    <tr>\n",
       "      <th>100000008</th>\n",
       "      <td>0</td>\n",
       "      <td>0</td>\n",
       "      <td>35</td>\n",
       "      <td>1</td>\n",
       "      <td>193621</td>\n",
       "      <td>2</td>\n",
       "      <td>1</td>\n",
       "    </tr>\n",
       "    <tr>\n",
       "      <th>100000009</th>\n",
       "      <td>0</td>\n",
       "      <td>1</td>\n",
       "      <td>61</td>\n",
       "      <td>2</td>\n",
       "      <td>151591</td>\n",
       "      <td>0</td>\n",
       "      <td>0</td>\n",
       "    </tr>\n",
       "    <tr>\n",
       "      <th>100000010</th>\n",
       "      <td>0</td>\n",
       "      <td>1</td>\n",
       "      <td>28</td>\n",
       "      <td>1</td>\n",
       "      <td>174646</td>\n",
       "      <td>2</td>\n",
       "      <td>0</td>\n",
       "    </tr>\n",
       "  </tbody>\n",
       "</table>\n",
       "</div>"
      ],
      "text/plain": [
       "           Sex  MaritalStatus  Age  Education  Income  Occupation  \\\n",
       "ID                                                                  \n",
       "100000001    0              0   67          2  124670           1   \n",
       "100000002    1              1   22          1  150773           1   \n",
       "100000003    0              0   49          1   89210           0   \n",
       "100000004    0              0   45          1  171565           1   \n",
       "100000005    0              0   53          1  149031           1   \n",
       "100000006    0              0   35          1  144848           0   \n",
       "100000007    0              0   53          1  156495           1   \n",
       "100000008    0              0   35          1  193621           2   \n",
       "100000009    0              1   61          2  151591           0   \n",
       "100000010    0              1   28          1  174646           2   \n",
       "\n",
       "           SettlementSize  \n",
       "ID                         \n",
       "100000001               2  \n",
       "100000002               2  \n",
       "100000003               0  \n",
       "100000004               1  \n",
       "100000005               1  \n",
       "100000006               0  \n",
       "100000007               1  \n",
       "100000008               1  \n",
       "100000009               0  \n",
       "100000010               0  "
      ]
     },
     "execution_count": 3,
     "metadata": {},
     "output_type": "execute_result"
    }
   ],
   "source": [
    "df.head(10)"
   ]
  },
  {
   "cell_type": "code",
   "execution_count": 4,
   "id": "5c56c431",
   "metadata": {},
   "outputs": [
    {
     "data": {
      "text/html": [
       "<div>\n",
       "<style scoped>\n",
       "    .dataframe tbody tr th:only-of-type {\n",
       "        vertical-align: middle;\n",
       "    }\n",
       "\n",
       "    .dataframe tbody tr th {\n",
       "        vertical-align: top;\n",
       "    }\n",
       "\n",
       "    .dataframe thead th {\n",
       "        text-align: right;\n",
       "    }\n",
       "</style>\n",
       "<table border=\"1\" class=\"dataframe\">\n",
       "  <thead>\n",
       "    <tr style=\"text-align: right;\">\n",
       "      <th></th>\n",
       "      <th>Sex</th>\n",
       "      <th>MaritalStatus</th>\n",
       "      <th>Age</th>\n",
       "      <th>Education</th>\n",
       "      <th>Income</th>\n",
       "      <th>Occupation</th>\n",
       "      <th>SettlementSize</th>\n",
       "    </tr>\n",
       "    <tr>\n",
       "      <th>ID</th>\n",
       "      <th></th>\n",
       "      <th></th>\n",
       "      <th></th>\n",
       "      <th></th>\n",
       "      <th></th>\n",
       "      <th></th>\n",
       "      <th></th>\n",
       "    </tr>\n",
       "  </thead>\n",
       "  <tbody>\n",
       "    <tr>\n",
       "      <th>100001996</th>\n",
       "      <td>1</td>\n",
       "      <td>0</td>\n",
       "      <td>47</td>\n",
       "      <td>1</td>\n",
       "      <td>123525</td>\n",
       "      <td>0</td>\n",
       "      <td>0</td>\n",
       "    </tr>\n",
       "    <tr>\n",
       "      <th>100001997</th>\n",
       "      <td>1</td>\n",
       "      <td>1</td>\n",
       "      <td>27</td>\n",
       "      <td>1</td>\n",
       "      <td>117744</td>\n",
       "      <td>1</td>\n",
       "      <td>0</td>\n",
       "    </tr>\n",
       "    <tr>\n",
       "      <th>100001998</th>\n",
       "      <td>0</td>\n",
       "      <td>0</td>\n",
       "      <td>31</td>\n",
       "      <td>0</td>\n",
       "      <td>86400</td>\n",
       "      <td>0</td>\n",
       "      <td>0</td>\n",
       "    </tr>\n",
       "    <tr>\n",
       "      <th>100001999</th>\n",
       "      <td>1</td>\n",
       "      <td>1</td>\n",
       "      <td>24</td>\n",
       "      <td>1</td>\n",
       "      <td>97968</td>\n",
       "      <td>0</td>\n",
       "      <td>0</td>\n",
       "    </tr>\n",
       "    <tr>\n",
       "      <th>100002000</th>\n",
       "      <td>0</td>\n",
       "      <td>0</td>\n",
       "      <td>25</td>\n",
       "      <td>0</td>\n",
       "      <td>68416</td>\n",
       "      <td>0</td>\n",
       "      <td>0</td>\n",
       "    </tr>\n",
       "  </tbody>\n",
       "</table>\n",
       "</div>"
      ],
      "text/plain": [
       "           Sex  MaritalStatus  Age  Education  Income  Occupation  \\\n",
       "ID                                                                  \n",
       "100001996    1              0   47          1  123525           0   \n",
       "100001997    1              1   27          1  117744           1   \n",
       "100001998    0              0   31          0   86400           0   \n",
       "100001999    1              1   24          1   97968           0   \n",
       "100002000    0              0   25          0   68416           0   \n",
       "\n",
       "           SettlementSize  \n",
       "ID                         \n",
       "100001996               0  \n",
       "100001997               0  \n",
       "100001998               0  \n",
       "100001999               0  \n",
       "100002000               0  "
      ]
     },
     "execution_count": 4,
     "metadata": {},
     "output_type": "execute_result"
    }
   ],
   "source": [
    "df.tail()"
   ]
  },
  {
   "cell_type": "code",
   "execution_count": 5,
   "id": "48e275b2",
   "metadata": {},
   "outputs": [
    {
     "data": {
      "text/plain": [
       "(2000, 7)"
      ]
     },
     "execution_count": 5,
     "metadata": {},
     "output_type": "execute_result"
    }
   ],
   "source": [
    "# Number of rows and columns as (records, features) where records are rows and features are columns.\n",
    "df.shape"
   ]
  },
  {
   "cell_type": "code",
   "execution_count": 6,
   "id": "24ab487a",
   "metadata": {},
   "outputs": [
    {
     "name": "stdout",
     "output_type": "stream",
     "text": [
      "<class 'pandas.core.frame.DataFrame'>\n",
      "Int64Index: 2000 entries, 100000001 to 100002000\n",
      "Data columns (total 7 columns):\n",
      " #   Column          Non-Null Count  Dtype\n",
      "---  ------          --------------  -----\n",
      " 0   Sex             2000 non-null   int64\n",
      " 1   MaritalStatus   2000 non-null   int64\n",
      " 2   Age             2000 non-null   int64\n",
      " 3   Education       2000 non-null   int64\n",
      " 4   Income          2000 non-null   int64\n",
      " 5   Occupation      2000 non-null   int64\n",
      " 6   SettlementSize  2000 non-null   int64\n",
      "dtypes: int64(7)\n",
      "memory usage: 125.0 KB\n"
     ]
    }
   ],
   "source": [
    "df.info()"
   ]
  },
  {
   "cell_type": "code",
   "execution_count": 7,
   "id": "191a9176",
   "metadata": {},
   "outputs": [
    {
     "data": {
      "text/html": [
       "<div>\n",
       "<style scoped>\n",
       "    .dataframe tbody tr th:only-of-type {\n",
       "        vertical-align: middle;\n",
       "    }\n",
       "\n",
       "    .dataframe tbody tr th {\n",
       "        vertical-align: top;\n",
       "    }\n",
       "\n",
       "    .dataframe thead th {\n",
       "        text-align: right;\n",
       "    }\n",
       "</style>\n",
       "<table border=\"1\" class=\"dataframe\">\n",
       "  <thead>\n",
       "    <tr style=\"text-align: right;\">\n",
       "      <th></th>\n",
       "      <th>Sex</th>\n",
       "      <th>MaritalStatus</th>\n",
       "      <th>Age</th>\n",
       "      <th>Education</th>\n",
       "      <th>Income</th>\n",
       "      <th>Occupation</th>\n",
       "      <th>SettlementSize</th>\n",
       "    </tr>\n",
       "  </thead>\n",
       "  <tbody>\n",
       "    <tr>\n",
       "      <th>count</th>\n",
       "      <td>2000.000000</td>\n",
       "      <td>2000.000000</td>\n",
       "      <td>2000.000000</td>\n",
       "      <td>2000.00000</td>\n",
       "      <td>2000.000000</td>\n",
       "      <td>2000.000000</td>\n",
       "      <td>2000.000000</td>\n",
       "    </tr>\n",
       "    <tr>\n",
       "      <th>mean</th>\n",
       "      <td>0.457000</td>\n",
       "      <td>0.496500</td>\n",
       "      <td>35.909000</td>\n",
       "      <td>1.03800</td>\n",
       "      <td>120954.419000</td>\n",
       "      <td>0.810500</td>\n",
       "      <td>0.739000</td>\n",
       "    </tr>\n",
       "    <tr>\n",
       "      <th>std</th>\n",
       "      <td>0.498272</td>\n",
       "      <td>0.500113</td>\n",
       "      <td>11.719402</td>\n",
       "      <td>0.59978</td>\n",
       "      <td>38108.824679</td>\n",
       "      <td>0.638587</td>\n",
       "      <td>0.812533</td>\n",
       "    </tr>\n",
       "    <tr>\n",
       "      <th>min</th>\n",
       "      <td>0.000000</td>\n",
       "      <td>0.000000</td>\n",
       "      <td>18.000000</td>\n",
       "      <td>0.00000</td>\n",
       "      <td>35832.000000</td>\n",
       "      <td>0.000000</td>\n",
       "      <td>0.000000</td>\n",
       "    </tr>\n",
       "    <tr>\n",
       "      <th>25%</th>\n",
       "      <td>0.000000</td>\n",
       "      <td>0.000000</td>\n",
       "      <td>27.000000</td>\n",
       "      <td>1.00000</td>\n",
       "      <td>97663.250000</td>\n",
       "      <td>0.000000</td>\n",
       "      <td>0.000000</td>\n",
       "    </tr>\n",
       "    <tr>\n",
       "      <th>50%</th>\n",
       "      <td>0.000000</td>\n",
       "      <td>0.000000</td>\n",
       "      <td>33.000000</td>\n",
       "      <td>1.00000</td>\n",
       "      <td>115548.500000</td>\n",
       "      <td>1.000000</td>\n",
       "      <td>1.000000</td>\n",
       "    </tr>\n",
       "    <tr>\n",
       "      <th>75%</th>\n",
       "      <td>1.000000</td>\n",
       "      <td>1.000000</td>\n",
       "      <td>42.000000</td>\n",
       "      <td>1.00000</td>\n",
       "      <td>138072.250000</td>\n",
       "      <td>1.000000</td>\n",
       "      <td>1.000000</td>\n",
       "    </tr>\n",
       "    <tr>\n",
       "      <th>max</th>\n",
       "      <td>1.000000</td>\n",
       "      <td>1.000000</td>\n",
       "      <td>76.000000</td>\n",
       "      <td>3.00000</td>\n",
       "      <td>309364.000000</td>\n",
       "      <td>2.000000</td>\n",
       "      <td>2.000000</td>\n",
       "    </tr>\n",
       "  </tbody>\n",
       "</table>\n",
       "</div>"
      ],
      "text/plain": [
       "               Sex  MaritalStatus          Age   Education         Income  \\\n",
       "count  2000.000000    2000.000000  2000.000000  2000.00000    2000.000000   \n",
       "mean      0.457000       0.496500    35.909000     1.03800  120954.419000   \n",
       "std       0.498272       0.500113    11.719402     0.59978   38108.824679   \n",
       "min       0.000000       0.000000    18.000000     0.00000   35832.000000   \n",
       "25%       0.000000       0.000000    27.000000     1.00000   97663.250000   \n",
       "50%       0.000000       0.000000    33.000000     1.00000  115548.500000   \n",
       "75%       1.000000       1.000000    42.000000     1.00000  138072.250000   \n",
       "max       1.000000       1.000000    76.000000     3.00000  309364.000000   \n",
       "\n",
       "        Occupation  SettlementSize  \n",
       "count  2000.000000     2000.000000  \n",
       "mean      0.810500        0.739000  \n",
       "std       0.638587        0.812533  \n",
       "min       0.000000        0.000000  \n",
       "25%       0.000000        0.000000  \n",
       "50%       1.000000        1.000000  \n",
       "75%       1.000000        1.000000  \n",
       "max       2.000000        2.000000  "
      ]
     },
     "execution_count": 7,
     "metadata": {},
     "output_type": "execute_result"
    }
   ],
   "source": [
    "# It gives statical analysis.\n",
    "df.describe()"
   ]
  },
  {
   "cell_type": "markdown",
   "id": "c2259efd",
   "metadata": {},
   "source": [
    "# Handling Missing Values"
   ]
  },
  {
   "cell_type": "code",
   "execution_count": 8,
   "id": "ba97b922",
   "metadata": {},
   "outputs": [
    {
     "data": {
      "text/plain": [
       "Sex               0\n",
       "MaritalStatus     0\n",
       "Age               0\n",
       "Education         0\n",
       "Income            0\n",
       "Occupation        0\n",
       "SettlementSize    0\n",
       "dtype: int64"
      ]
     },
     "execution_count": 8,
     "metadata": {},
     "output_type": "execute_result"
    }
   ],
   "source": [
    "df.isnull().sum()"
   ]
  },
  {
   "cell_type": "code",
   "execution_count": 9,
   "id": "cfad2701",
   "metadata": {},
   "outputs": [
    {
     "data": {
      "text/plain": [
       "1    1113\n",
       "0     633\n",
       "2     254\n",
       "Name: Occupation, dtype: int64"
      ]
     },
     "execution_count": 9,
     "metadata": {},
     "output_type": "execute_result"
    }
   ],
   "source": [
    "df.Occupation.value_counts()"
   ]
  },
  {
   "cell_type": "code",
   "execution_count": 10,
   "id": "89b356a7",
   "metadata": {},
   "outputs": [
    {
     "data": {
      "text/plain": [
       "1    1386\n",
       "2     291\n",
       "0     287\n",
       "3      36\n",
       "Name: Education, dtype: int64"
      ]
     },
     "execution_count": 10,
     "metadata": {},
     "output_type": "execute_result"
    }
   ],
   "source": [
    "df.Education.value_counts()"
   ]
  },
  {
   "cell_type": "code",
   "execution_count": 11,
   "id": "27426d75",
   "metadata": {},
   "outputs": [
    {
     "data": {
      "text/plain": [
       "0    989\n",
       "1    544\n",
       "2    467\n",
       "Name: SettlementSize, dtype: int64"
      ]
     },
     "execution_count": 11,
     "metadata": {},
     "output_type": "execute_result"
    }
   ],
   "source": [
    "df['SettlementSize'].value_counts()"
   ]
  },
  {
   "cell_type": "code",
   "execution_count": 12,
   "id": "fc512d2c",
   "metadata": {},
   "outputs": [
    {
     "data": {
      "text/plain": [
       "Index(['Sex', 'MaritalStatus', 'Age', 'Education', 'Income', 'Occupation',\n",
       "       'SettlementSize'],\n",
       "      dtype='object')"
      ]
     },
     "execution_count": 12,
     "metadata": {},
     "output_type": "execute_result"
    }
   ],
   "source": [
    "# It gives the column name.\n",
    "df.columns"
   ]
  },
  {
   "cell_type": "markdown",
   "id": "88f973eb",
   "metadata": {},
   "source": [
    "# Data Visualization"
   ]
  },
  {
   "cell_type": "code",
   "execution_count": 13,
   "id": "c962698b",
   "metadata": {},
   "outputs": [
    {
     "data": {
      "text/html": [
       "<div>\n",
       "<style scoped>\n",
       "    .dataframe tbody tr th:only-of-type {\n",
       "        vertical-align: middle;\n",
       "    }\n",
       "\n",
       "    .dataframe tbody tr th {\n",
       "        vertical-align: top;\n",
       "    }\n",
       "\n",
       "    .dataframe thead th {\n",
       "        text-align: right;\n",
       "    }\n",
       "</style>\n",
       "<table border=\"1\" class=\"dataframe\">\n",
       "  <thead>\n",
       "    <tr style=\"text-align: right;\">\n",
       "      <th></th>\n",
       "      <th>Sex</th>\n",
       "      <th>MaritalStatus</th>\n",
       "      <th>Age</th>\n",
       "      <th>Education</th>\n",
       "      <th>Income</th>\n",
       "      <th>Occupation</th>\n",
       "      <th>SettlementSize</th>\n",
       "    </tr>\n",
       "  </thead>\n",
       "  <tbody>\n",
       "    <tr>\n",
       "      <th>Sex</th>\n",
       "      <td>1.000000</td>\n",
       "      <td>0.566511</td>\n",
       "      <td>-0.182885</td>\n",
       "      <td>0.244838</td>\n",
       "      <td>-0.195146</td>\n",
       "      <td>-0.202491</td>\n",
       "      <td>-0.300803</td>\n",
       "    </tr>\n",
       "    <tr>\n",
       "      <th>MaritalStatus</th>\n",
       "      <td>0.566511</td>\n",
       "      <td>1.000000</td>\n",
       "      <td>-0.213178</td>\n",
       "      <td>0.374017</td>\n",
       "      <td>-0.073528</td>\n",
       "      <td>-0.029490</td>\n",
       "      <td>-0.097041</td>\n",
       "    </tr>\n",
       "    <tr>\n",
       "      <th>Age</th>\n",
       "      <td>-0.182885</td>\n",
       "      <td>-0.213178</td>\n",
       "      <td>1.000000</td>\n",
       "      <td>0.654605</td>\n",
       "      <td>0.340610</td>\n",
       "      <td>0.108388</td>\n",
       "      <td>0.119751</td>\n",
       "    </tr>\n",
       "    <tr>\n",
       "      <th>Education</th>\n",
       "      <td>0.244838</td>\n",
       "      <td>0.374017</td>\n",
       "      <td>0.654605</td>\n",
       "      <td>1.000000</td>\n",
       "      <td>0.233459</td>\n",
       "      <td>0.064524</td>\n",
       "      <td>0.034732</td>\n",
       "    </tr>\n",
       "    <tr>\n",
       "      <th>Income</th>\n",
       "      <td>-0.195146</td>\n",
       "      <td>-0.073528</td>\n",
       "      <td>0.340610</td>\n",
       "      <td>0.233459</td>\n",
       "      <td>1.000000</td>\n",
       "      <td>0.680357</td>\n",
       "      <td>0.490881</td>\n",
       "    </tr>\n",
       "    <tr>\n",
       "      <th>Occupation</th>\n",
       "      <td>-0.202491</td>\n",
       "      <td>-0.029490</td>\n",
       "      <td>0.108388</td>\n",
       "      <td>0.064524</td>\n",
       "      <td>0.680357</td>\n",
       "      <td>1.000000</td>\n",
       "      <td>0.571795</td>\n",
       "    </tr>\n",
       "    <tr>\n",
       "      <th>SettlementSize</th>\n",
       "      <td>-0.300803</td>\n",
       "      <td>-0.097041</td>\n",
       "      <td>0.119751</td>\n",
       "      <td>0.034732</td>\n",
       "      <td>0.490881</td>\n",
       "      <td>0.571795</td>\n",
       "      <td>1.000000</td>\n",
       "    </tr>\n",
       "  </tbody>\n",
       "</table>\n",
       "</div>"
      ],
      "text/plain": [
       "                     Sex  MaritalStatus       Age  Education    Income  \\\n",
       "Sex             1.000000       0.566511 -0.182885   0.244838 -0.195146   \n",
       "MaritalStatus   0.566511       1.000000 -0.213178   0.374017 -0.073528   \n",
       "Age            -0.182885      -0.213178  1.000000   0.654605  0.340610   \n",
       "Education       0.244838       0.374017  0.654605   1.000000  0.233459   \n",
       "Income         -0.195146      -0.073528  0.340610   0.233459  1.000000   \n",
       "Occupation     -0.202491      -0.029490  0.108388   0.064524  0.680357   \n",
       "SettlementSize -0.300803      -0.097041  0.119751   0.034732  0.490881   \n",
       "\n",
       "                Occupation  SettlementSize  \n",
       "Sex              -0.202491       -0.300803  \n",
       "MaritalStatus    -0.029490       -0.097041  \n",
       "Age               0.108388        0.119751  \n",
       "Education         0.064524        0.034732  \n",
       "Income            0.680357        0.490881  \n",
       "Occupation        1.000000        0.571795  \n",
       "SettlementSize    0.571795        1.000000  "
      ]
     },
     "execution_count": 13,
     "metadata": {},
     "output_type": "execute_result"
    }
   ],
   "source": [
    "df.corr()"
   ]
  },
  {
   "cell_type": "code",
   "execution_count": 14,
   "id": "92c1fd52",
   "metadata": {},
   "outputs": [
    {
     "data": {
      "text/plain": [
       "<seaborn.axisgrid.FacetGrid at 0x284afd34400>"
      ]
     },
     "execution_count": 14,
     "metadata": {},
     "output_type": "execute_result"
    },
    {
     "data": {
      "image/png": "[encoded data removed]",
      "text/plain": [
       "<Figure size 360x360 with 1 Axes>"
      ]
     },
     "metadata": {
      "needs_background": "light"
     },
     "output_type": "display_data"
    }
   ],
   "source": [
    "sns.displot(df['Age'])"
   ]
  },
  {
   "cell_type": "code",
   "execution_count": 15,
   "id": "cfa00b38",
   "metadata": {},
   "outputs": [
    {
     "name": "stderr",
     "output_type": "stream",
     "text": [
      "C:\\ProgramData\\Anaconda3\\lib\\site-packages\\seaborn\\_decorators.py:36: FutureWarning: Pass the following variables as keyword args: x, y. From version 0.12, the only valid positional argument will be `data`, and passing other arguments without an explicit keyword will result in an error or misinterpretation.\n",
      "  warnings.warn(\n"
     ]
    },
    {
     "data": {
      "text/plain": [
       "<AxesSubplot:ylabel='SettlementSize'>"
      ]
     },
     "execution_count": 15,
     "metadata": {},
     "output_type": "execute_result"
    },
    {
     "data": {
      "image/png": "[encoded data removed]",
      "text/plain": [
       "<Figure size 432x288 with 1 Axes>"
      ]
     },
     "metadata": {
      "needs_background": "light"
     },
     "output_type": "display_data"
    }
   ],
   "source": [
    "sns.barplot((df.SettlementSize.value_counts()).index,df.SettlementSize.value_counts())"
   ]
  },
  {
   "cell_type": "code",
   "execution_count": 16,
   "id": "e86538aa",
   "metadata": {},
   "outputs": [
    {
     "data": {
      "text/plain": [
       "<AxesSubplot:xlabel='Age', ylabel='Income'>"
      ]
     },
     "execution_count": 16,
     "metadata": {},
     "output_type": "execute_result"
    },
    {
     "data": {
      "image/png": "[encoded data removed]",
      "text/plain": [
       "<Figure size 432x288 with 1 Axes>"
      ]
     },
     "metadata": {
      "needs_background": "light"
     },
     "output_type": "display_data"
    }
   ],
   "source": [
    "sns.scatterplot(x=df.Age,y=df.Income)"
   ]
  },
  {
   "cell_type": "code",
   "execution_count": 17,
   "id": "48303407",
   "metadata": {},
   "outputs": [
    {
     "data": {
      "text/plain": [
       "array([[<AxesSubplot:title={'center':'Sex'}>,\n",
       "        <AxesSubplot:title={'center':'MaritalStatus'}>,\n",
       "        <AxesSubplot:title={'center':'Age'}>],\n",
       "       [<AxesSubplot:title={'center':'Education'}>,\n",
       "        <AxesSubplot:title={'center':'Income'}>,\n",
       "        <AxesSubplot:title={'center':'Occupation'}>],\n",
       "       [<AxesSubplot:title={'center':'SettlementSize'}>, <AxesSubplot:>,\n",
       "        <AxesSubplot:>]], dtype=object)"
      ]
     },
     "execution_count": 17,
     "metadata": {},
     "output_type": "execute_result"
    },
    {
     "data": {
      "image/png": "[encoded data removed]",
      "text/plain": [
       "<Figure size 576x576 with 9 Axes>"
      ]
     },
     "metadata": {
      "needs_background": "light"
     },
     "output_type": "display_data"
    }
   ],
   "source": [
    "df.hist(figsize=(8,8))"
   ]
  },
  {
   "cell_type": "code",
   "execution_count": 18,
   "id": "26d7597f",
   "metadata": {},
   "outputs": [
    {
     "data": {
      "text/plain": [
       "<AxesSubplot:>"
      ]
     },
     "execution_count": 18,
     "metadata": {},
     "output_type": "execute_result"
    },
    {
     "data": {
      "image/png": "[encoded data removed]",
      "text/plain": [
       "<Figure size 432x288 with 2 Axes>"
      ]
     },
     "metadata": {
      "needs_background": "light"
     },
     "output_type": "display_data"
    }
   ],
   "source": [
    "sns.heatmap(df.corr(),annot=True)"
   ]
  },
  {
   "cell_type": "code",
   "execution_count": 25,
   "id": "660520bf",
   "metadata": {},
   "outputs": [],
   "source": [
    "names = df.columns"
   ]
  },
  {
   "cell_type": "markdown",
   "id": "051180d9",
   "metadata": {},
   "source": [
    "# Feature Scaling"
   ]
  },
  {
   "cell_type": "code",
   "execution_count": 26,
   "id": "785bd094",
   "metadata": {},
   "outputs": [],
   "source": [
    "from sklearn import preprocessing\n",
    "df = preprocessing.minmax_scale(df, feature_range = (0,1))"
   ]
  },
  {
   "cell_type": "code",
   "execution_count": 27,
   "id": "9d5464a3",
   "metadata": {},
   "outputs": [],
   "source": [
    "df = pd.DataFrame(df, columns = names)"
   ]
  },
  {
   "cell_type": "code",
   "execution_count": 28,
   "id": "1814404b",
   "metadata": {},
   "outputs": [
    {
     "data": {
      "text/html": [
       "<div>\n",
       "<style scoped>\n",
       "    .dataframe tbody tr th:only-of-type {\n",
       "        vertical-align: middle;\n",
       "    }\n",
       "\n",
       "    .dataframe tbody tr th {\n",
       "        vertical-align: top;\n",
       "    }\n",
       "\n",
       "    .dataframe thead th {\n",
       "        text-align: right;\n",
       "    }\n",
       "</style>\n",
       "<table border=\"1\" class=\"dataframe\">\n",
       "  <thead>\n",
       "    <tr style=\"text-align: right;\">\n",
       "      <th></th>\n",
       "      <th>Sex</th>\n",
       "      <th>MaritalStatus</th>\n",
       "      <th>Age</th>\n",
       "      <th>Education</th>\n",
       "      <th>Income</th>\n",
       "      <th>Occupation</th>\n",
       "      <th>SettlementSize</th>\n",
       "    </tr>\n",
       "  </thead>\n",
       "  <tbody>\n",
       "    <tr>\n",
       "      <th>0</th>\n",
       "      <td>0.0</td>\n",
       "      <td>0.0</td>\n",
       "      <td>0.844828</td>\n",
       "      <td>0.666667</td>\n",
       "      <td>0.324781</td>\n",
       "      <td>0.5</td>\n",
       "      <td>1.0</td>\n",
       "    </tr>\n",
       "    <tr>\n",
       "      <th>1</th>\n",
       "      <td>1.0</td>\n",
       "      <td>1.0</td>\n",
       "      <td>0.068966</td>\n",
       "      <td>0.333333</td>\n",
       "      <td>0.420210</td>\n",
       "      <td>0.5</td>\n",
       "      <td>1.0</td>\n",
       "    </tr>\n",
       "    <tr>\n",
       "      <th>2</th>\n",
       "      <td>0.0</td>\n",
       "      <td>0.0</td>\n",
       "      <td>0.534483</td>\n",
       "      <td>0.333333</td>\n",
       "      <td>0.195144</td>\n",
       "      <td>0.0</td>\n",
       "      <td>0.0</td>\n",
       "    </tr>\n",
       "    <tr>\n",
       "      <th>3</th>\n",
       "      <td>0.0</td>\n",
       "      <td>0.0</td>\n",
       "      <td>0.465517</td>\n",
       "      <td>0.333333</td>\n",
       "      <td>0.496223</td>\n",
       "      <td>0.5</td>\n",
       "      <td>0.5</td>\n",
       "    </tr>\n",
       "    <tr>\n",
       "      <th>4</th>\n",
       "      <td>0.0</td>\n",
       "      <td>0.0</td>\n",
       "      <td>0.603448</td>\n",
       "      <td>0.333333</td>\n",
       "      <td>0.413842</td>\n",
       "      <td>0.5</td>\n",
       "      <td>0.5</td>\n",
       "    </tr>\n",
       "  </tbody>\n",
       "</table>\n",
       "</div>"
      ],
      "text/plain": [
       "   Sex  MaritalStatus       Age  Education    Income  Occupation  \\\n",
       "0  0.0            0.0  0.844828   0.666667  0.324781         0.5   \n",
       "1  1.0            1.0  0.068966   0.333333  0.420210         0.5   \n",
       "2  0.0            0.0  0.534483   0.333333  0.195144         0.0   \n",
       "3  0.0            0.0  0.465517   0.333333  0.496223         0.5   \n",
       "4  0.0            0.0  0.603448   0.333333  0.413842         0.5   \n",
       "\n",
       "   SettlementSize  \n",
       "0             1.0  \n",
       "1             1.0  \n",
       "2             0.0  \n",
       "3             0.5  \n",
       "4             0.5  "
      ]
     },
     "execution_count": 28,
     "metadata": {},
     "output_type": "execute_result"
    }
   ],
   "source": [
    "df.head()"
   ]
  },
  {
   "cell_type": "markdown",
   "id": "0872ad51",
   "metadata": {},
   "source": [
    "# Unsupervised Model Building"
   ]
  },
  {
   "cell_type": "markdown",
   "id": "5bbbbb12",
   "metadata": {},
   "source": [
    "# Importing and Initializing the Model"
   ]
  },
  {
   "cell_type": "code",
   "execution_count": 29,
   "id": "9a8b38cf",
   "metadata": {},
   "outputs": [],
   "source": [
    "from sklearn.cluster import KMeans\n",
    "from scipy import spatial"
   ]
  },
  {
   "cell_type": "code",
   "execution_count": 30,
   "id": "a4256adf",
   "metadata": {},
   "outputs": [],
   "source": [
    "wscc = []\n",
    "for i in range(1,11):\n",
    "    kmeans = KMeans(n_clusters=i, init='k-means++', random_state=0)\n",
    "    kmeans.fit(df)\n",
    "    wscc.append(kmeans.inertia_)"
   ]
  },
  {
   "cell_type": "code",
   "execution_count": 31,
   "id": "dedc8473",
   "metadata": {},
   "outputs": [],
   "source": [
    "import matplotlib as plt"
   ]
  },
  {
   "cell_type": "code",
   "execution_count": 32,
   "id": "dae078e1",
   "metadata": {},
   "outputs": [
    {
     "data": {
      "image/png": "[encoded data removed]",
      "text/plain": [
       "<Figure size 432x288 with 1 Axes>"
      ]
     },
     "metadata": {
      "needs_background": "light"
     },
     "output_type": "display_data"
    }
   ],
   "source": [
    "plt.pyplot.plot(range(1,11),wscc)\n",
    "plt.pyplot.title('elbow method')\n",
    "plt.pyplot.xlabel('no.of clus')\n",
    "plt.pyplot.ylabel('wcss')\n",
    "plt.pyplot.show()"
   ]
  },
  {
   "cell_type": "code",
   "execution_count": 33,
   "id": "df6087bb",
   "metadata": {},
   "outputs": [],
   "source": [
    "km_model =KMeans(n_clusters = 3, init = 'k-means++', random_state = 0)"
   ]
  },
  {
   "cell_type": "code",
   "execution_count": 36,
   "id": "702ee35f",
   "metadata": {},
   "outputs": [],
   "source": [
    "ykmeans=km_model.fit_predict(df)"
   ]
  },
  {
   "cell_type": "code",
   "execution_count": 37,
   "id": "0a13934d",
   "metadata": {},
   "outputs": [
    {
     "data": {
      "text/html": [
       "<div>\n",
       "<style scoped>\n",
       "    .dataframe tbody tr th:only-of-type {\n",
       "        vertical-align: middle;\n",
       "    }\n",
       "\n",
       "    .dataframe tbody tr th {\n",
       "        vertical-align: top;\n",
       "    }\n",
       "\n",
       "    .dataframe thead th {\n",
       "        text-align: right;\n",
       "    }\n",
       "</style>\n",
       "<table border=\"1\" class=\"dataframe\">\n",
       "  <thead>\n",
       "    <tr style=\"text-align: right;\">\n",
       "      <th></th>\n",
       "      <th>Sex</th>\n",
       "      <th>MaritalStatus</th>\n",
       "      <th>Age</th>\n",
       "      <th>Education</th>\n",
       "      <th>Income</th>\n",
       "      <th>Occupation</th>\n",
       "      <th>SettlementSize</th>\n",
       "    </tr>\n",
       "  </thead>\n",
       "  <tbody>\n",
       "    <tr>\n",
       "      <th>0</th>\n",
       "      <td>0.0</td>\n",
       "      <td>0.0</td>\n",
       "      <td>0.844828</td>\n",
       "      <td>0.666667</td>\n",
       "      <td>0.324781</td>\n",
       "      <td>0.5</td>\n",
       "      <td>1.0</td>\n",
       "    </tr>\n",
       "    <tr>\n",
       "      <th>1</th>\n",
       "      <td>1.0</td>\n",
       "      <td>1.0</td>\n",
       "      <td>0.068966</td>\n",
       "      <td>0.333333</td>\n",
       "      <td>0.420210</td>\n",
       "      <td>0.5</td>\n",
       "      <td>1.0</td>\n",
       "    </tr>\n",
       "    <tr>\n",
       "      <th>2</th>\n",
       "      <td>0.0</td>\n",
       "      <td>0.0</td>\n",
       "      <td>0.534483</td>\n",
       "      <td>0.333333</td>\n",
       "      <td>0.195144</td>\n",
       "      <td>0.0</td>\n",
       "      <td>0.0</td>\n",
       "    </tr>\n",
       "    <tr>\n",
       "      <th>3</th>\n",
       "      <td>0.0</td>\n",
       "      <td>0.0</td>\n",
       "      <td>0.465517</td>\n",
       "      <td>0.333333</td>\n",
       "      <td>0.496223</td>\n",
       "      <td>0.5</td>\n",
       "      <td>0.5</td>\n",
       "    </tr>\n",
       "    <tr>\n",
       "      <th>4</th>\n",
       "      <td>0.0</td>\n",
       "      <td>0.0</td>\n",
       "      <td>0.603448</td>\n",
       "      <td>0.333333</td>\n",
       "      <td>0.413842</td>\n",
       "      <td>0.5</td>\n",
       "      <td>0.5</td>\n",
       "    </tr>\n",
       "  </tbody>\n",
       "</table>\n",
       "</div>"
      ],
      "text/plain": [
       "   Sex  MaritalStatus       Age  Education    Income  Occupation  \\\n",
       "0  0.0            0.0  0.844828   0.666667  0.324781         0.5   \n",
       "1  1.0            1.0  0.068966   0.333333  0.420210         0.5   \n",
       "2  0.0            0.0  0.534483   0.333333  0.195144         0.0   \n",
       "3  0.0            0.0  0.465517   0.333333  0.496223         0.5   \n",
       "4  0.0            0.0  0.603448   0.333333  0.413842         0.5   \n",
       "\n",
       "   SettlementSize  \n",
       "0             1.0  \n",
       "1             1.0  \n",
       "2             0.0  \n",
       "3             0.5  \n",
       "4             0.5  "
      ]
     },
     "execution_count": 37,
     "metadata": {},
     "output_type": "execute_result"
    }
   ],
   "source": [
    "df.head()"
   ]
  },
  {
   "cell_type": "code",
   "execution_count": 38,
   "id": "12392958",
   "metadata": {},
   "outputs": [],
   "source": [
    "df['kclus'] = pd.Series(ykmeans)"
   ]
  },
  {
   "cell_type": "code",
   "execution_count": 39,
   "id": "c2d7df8b",
   "metadata": {},
   "outputs": [
    {
     "data": {
      "text/html": [
       "<div>\n",
       "<style scoped>\n",
       "    .dataframe tbody tr th:only-of-type {\n",
       "        vertical-align: middle;\n",
       "    }\n",
       "\n",
       "    .dataframe tbody tr th {\n",
       "        vertical-align: top;\n",
       "    }\n",
       "\n",
       "    .dataframe thead th {\n",
       "        text-align: right;\n",
       "    }\n",
       "</style>\n",
       "<table border=\"1\" class=\"dataframe\">\n",
       "  <thead>\n",
       "    <tr style=\"text-align: right;\">\n",
       "      <th></th>\n",
       "      <th>Sex</th>\n",
       "      <th>MaritalStatus</th>\n",
       "      <th>Age</th>\n",
       "      <th>Education</th>\n",
       "      <th>Income</th>\n",
       "      <th>Occupation</th>\n",
       "      <th>SettlementSize</th>\n",
       "      <th>kclus</th>\n",
       "    </tr>\n",
       "  </thead>\n",
       "  <tbody>\n",
       "    <tr>\n",
       "      <th>0</th>\n",
       "      <td>0.0</td>\n",
       "      <td>0.0</td>\n",
       "      <td>0.844828</td>\n",
       "      <td>0.666667</td>\n",
       "      <td>0.324781</td>\n",
       "      <td>0.5</td>\n",
       "      <td>1.0</td>\n",
       "      <td>2</td>\n",
       "    </tr>\n",
       "    <tr>\n",
       "      <th>1</th>\n",
       "      <td>1.0</td>\n",
       "      <td>1.0</td>\n",
       "      <td>0.068966</td>\n",
       "      <td>0.333333</td>\n",
       "      <td>0.420210</td>\n",
       "      <td>0.5</td>\n",
       "      <td>1.0</td>\n",
       "      <td>1</td>\n",
       "    </tr>\n",
       "    <tr>\n",
       "      <th>2</th>\n",
       "      <td>0.0</td>\n",
       "      <td>0.0</td>\n",
       "      <td>0.534483</td>\n",
       "      <td>0.333333</td>\n",
       "      <td>0.195144</td>\n",
       "      <td>0.0</td>\n",
       "      <td>0.0</td>\n",
       "      <td>0</td>\n",
       "    </tr>\n",
       "    <tr>\n",
       "      <th>3</th>\n",
       "      <td>0.0</td>\n",
       "      <td>0.0</td>\n",
       "      <td>0.465517</td>\n",
       "      <td>0.333333</td>\n",
       "      <td>0.496223</td>\n",
       "      <td>0.5</td>\n",
       "      <td>0.5</td>\n",
       "      <td>2</td>\n",
       "    </tr>\n",
       "    <tr>\n",
       "      <th>4</th>\n",
       "      <td>0.0</td>\n",
       "      <td>0.0</td>\n",
       "      <td>0.603448</td>\n",
       "      <td>0.333333</td>\n",
       "      <td>0.413842</td>\n",
       "      <td>0.5</td>\n",
       "      <td>0.5</td>\n",
       "      <td>2</td>\n",
       "    </tr>\n",
       "    <tr>\n",
       "      <th>5</th>\n",
       "      <td>0.0</td>\n",
       "      <td>0.0</td>\n",
       "      <td>0.293103</td>\n",
       "      <td>0.333333</td>\n",
       "      <td>0.398549</td>\n",
       "      <td>0.0</td>\n",
       "      <td>0.0</td>\n",
       "      <td>0</td>\n",
       "    </tr>\n",
       "    <tr>\n",
       "      <th>6</th>\n",
       "      <td>0.0</td>\n",
       "      <td>0.0</td>\n",
       "      <td>0.603448</td>\n",
       "      <td>0.333333</td>\n",
       "      <td>0.441129</td>\n",
       "      <td>0.5</td>\n",
       "      <td>0.5</td>\n",
       "      <td>2</td>\n",
       "    </tr>\n",
       "    <tr>\n",
       "      <th>7</th>\n",
       "      <td>0.0</td>\n",
       "      <td>0.0</td>\n",
       "      <td>0.293103</td>\n",
       "      <td>0.333333</td>\n",
       "      <td>0.576858</td>\n",
       "      <td>1.0</td>\n",
       "      <td>0.5</td>\n",
       "      <td>2</td>\n",
       "    </tr>\n",
       "    <tr>\n",
       "      <th>8</th>\n",
       "      <td>0.0</td>\n",
       "      <td>1.0</td>\n",
       "      <td>0.741379</td>\n",
       "      <td>0.666667</td>\n",
       "      <td>0.423201</td>\n",
       "      <td>0.0</td>\n",
       "      <td>0.0</td>\n",
       "      <td>0</td>\n",
       "    </tr>\n",
       "    <tr>\n",
       "      <th>9</th>\n",
       "      <td>0.0</td>\n",
       "      <td>1.0</td>\n",
       "      <td>0.172414</td>\n",
       "      <td>0.333333</td>\n",
       "      <td>0.507487</td>\n",
       "      <td>1.0</td>\n",
       "      <td>0.0</td>\n",
       "      <td>2</td>\n",
       "    </tr>\n",
       "  </tbody>\n",
       "</table>\n",
       "</div>"
      ],
      "text/plain": [
       "   Sex  MaritalStatus       Age  Education    Income  Occupation  \\\n",
       "0  0.0            0.0  0.844828   0.666667  0.324781         0.5   \n",
       "1  1.0            1.0  0.068966   0.333333  0.420210         0.5   \n",
       "2  0.0            0.0  0.534483   0.333333  0.195144         0.0   \n",
       "3  0.0            0.0  0.465517   0.333333  0.496223         0.5   \n",
       "4  0.0            0.0  0.603448   0.333333  0.413842         0.5   \n",
       "5  0.0            0.0  0.293103   0.333333  0.398549         0.0   \n",
       "6  0.0            0.0  0.603448   0.333333  0.441129         0.5   \n",
       "7  0.0            0.0  0.293103   0.333333  0.576858         1.0   \n",
       "8  0.0            1.0  0.741379   0.666667  0.423201         0.0   \n",
       "9  0.0            1.0  0.172414   0.333333  0.507487         1.0   \n",
       "\n",
       "   SettlementSize  kclus  \n",
       "0             1.0      2  \n",
       "1             1.0      1  \n",
       "2             0.0      0  \n",
       "3             0.5      2  \n",
       "4             0.5      2  \n",
       "5             0.0      0  \n",
       "6             0.5      2  \n",
       "7             0.5      2  \n",
       "8             0.0      0  \n",
       "9             0.0      2  "
      ]
     },
     "execution_count": 39,
     "metadata": {},
     "output_type": "execute_result"
    }
   ],
   "source": [
    "df.head(10)"
   ]
  },
  {
   "cell_type": "markdown",
   "id": "79d60687",
   "metadata": {},
   "source": [
    "# Splitting the Dataset into Dependent and Independent Variables"
   ]
  },
  {
   "cell_type": "code",
   "execution_count": 40,
   "id": "b96911b0",
   "metadata": {},
   "outputs": [],
   "source": [
    "y = df['kclus']\n",
    "x = df.drop(columns = ['kclus'], axis = 1)"
   ]
  },
  {
   "cell_type": "markdown",
   "id": "fc152438",
   "metadata": {},
   "source": [
    "# Splitting the data into train and test"
   ]
  },
  {
   "cell_type": "code",
   "execution_count": 42,
   "id": "91c1b5bf",
   "metadata": {},
   "outputs": [],
   "source": [
    "from sklearn import model_selection\n",
    "x_train, x_test, y_train, y_test = model_selection.train_test_split(x, y, test_size = 0.2, random_state = 0)"
   ]
  },
  {
   "cell_type": "markdown",
   "id": "c45921f0",
   "metadata": {},
   "source": [
    "# Supervised Model Building"
   ]
  },
  {
   "cell_type": "markdown",
   "id": "78e4df86",
   "metadata": {},
   "source": [
    "# Training and Testing the Model"
   ]
  },
  {
   "cell_type": "code",
   "execution_count": 45,
   "id": "0f05cb94",
   "metadata": {},
   "outputs": [],
   "source": [
    "from sklearn.ensemble import RandomForestClassifier\n",
    "from sklearn import tree\n",
    "import xgboost"
   ]
  },
  {
   "cell_type": "code",
   "execution_count": 46,
   "id": "ec9a38eb",
   "metadata": {},
   "outputs": [],
   "source": [
    "rand_model = RandomForestClassifier()\n",
    "tree_model = tree.DecisionTreeClassifier()\n",
    "xgb_model = xgboost.XGBClassifier()"
   ]
  },
  {
   "cell_type": "code",
   "execution_count": 47,
   "id": "1e24a267",
   "metadata": {},
   "outputs": [
    {
     "data": {
      "text/plain": [
       "XGBClassifier(base_score=0.5, booster='gbtree', callbacks=None,\n",
       "              colsample_bylevel=1, colsample_bynode=1, colsample_bytree=1,\n",
       "              early_stopping_rounds=None, enable_categorical=False,\n",
       "              eval_metric=None, gamma=0, gpu_id=-1, grow_policy='depthwise',\n",
       "              importance_type=None, interaction_constraints='',\n",
       "              learning_rate=0.300000012, max_bin=256, max_cat_to_onehot=4,\n",
       "              max_delta_step=0, max_depth=6, max_leaves=0, min_child_weight=1,\n",
       "              missing=nan, monotone_constraints='()', n_estimators=100,\n",
       "              n_jobs=0, num_parallel_tree=1, objective='multi:softprob',\n",
       "              predictor='auto', random_state=0, reg_alpha=0, ...)"
      ]
     },
     "execution_count": 47,
     "metadata": {},
     "output_type": "execute_result"
    }
   ],
   "source": [
    "rand_model.fit(x_train,y_train)\n",
    "tree_model.fit(x_train,y_train)\n",
    "xgb_model.fit(x_train,y_train)"
   ]
  },
  {
   "cell_type": "markdown",
   "id": "0d11679b",
   "metadata": {},
   "source": [
    "# Model Evaluation"
   ]
  },
  {
   "cell_type": "code",
   "execution_count": 48,
   "id": "f4a46e69",
   "metadata": {},
   "outputs": [],
   "source": [
    "pred=rand_model.predict(x_train)\n",
    "pred1=tree_model.predict(x_train)\n",
    "pred2=xgb_model.predict(x_train)"
   ]
  },
  {
   "cell_type": "code",
   "execution_count": 49,
   "id": "fda492f6",
   "metadata": {},
   "outputs": [],
   "source": [
    "from sklearn import metrics"
   ]
  },
  {
   "cell_type": "code",
   "execution_count": 50,
   "id": "0b6f7500",
   "metadata": {},
   "outputs": [
    {
     "name": "stdout",
     "output_type": "stream",
     "text": [
      "1.0\n",
      "1.0\n",
      "1.0\n"
     ]
    }
   ],
   "source": [
    "print(metrics.accuracy_score(pred,y_train))\n",
    "print(metrics.accuracy_score(pred1,y_train))\n",
    "print(metrics.accuracy_score(pred2,y_train))"
   ]
  },
  {
   "cell_type": "code",
   "execution_count": 51,
   "id": "1b8b91ea",
   "metadata": {},
   "outputs": [],
   "source": [
    "pred=rand_model.predict(x_test)\n",
    "pred1=tree_model.predict(x_test)\n",
    "pred2=xgb_model.predict(x_test)"
   ]
  },
  {
   "cell_type": "code",
   "execution_count": 52,
   "id": "e2027d1c",
   "metadata": {},
   "outputs": [
    {
     "name": "stdout",
     "output_type": "stream",
     "text": [
      "0.9975\n",
      "0.9975\n",
      "0.9975\n"
     ]
    }
   ],
   "source": [
    "print(metrics.accuracy_score(pred,y_test))\n",
    "print(metrics.accuracy_score(pred1,y_test))\n",
    "print(metrics.accuracy_score(pred2,y_test))"
   ]
  },
  {
   "cell_type": "markdown",
   "id": "a71d7911",
   "metadata": {},
   "source": [
    "# Saving the Model"
   ]
  },
  {
   "cell_type": "code",
   "execution_count": 53,
   "id": "e60e6294",
   "metadata": {},
   "outputs": [],
   "source": [
    "import pickle"
   ]
  },
  {
   "cell_type": "code",
   "execution_count": 54,
   "id": "7c69fc99",
   "metadata": {},
   "outputs": [],
   "source": [
    "pickle.dump(xgb_model,open(\"cust_xgbmodel.pkl\",'wb'))"
   ]
  }
 ],
 "metadata": {
  "kernelspec": {
   "display_name": "Python 3 (ipykernel)",
   "language": "python",
   "name": "python3"
  },
  "language_info": {
   "codemirror_mode": {
    "name": "ipython",
    "version": 3
   },
   "file_extension": ".py",
   "mimetype": "text/x-python",
   "name": "python",
   "nbconvert_exporter": "python",
   "pygments_lexer": "ipython3",
   "version": "3.9.12"
  }
 },
 "nbformat": 4,
 "nbformat_minor": 5
}
